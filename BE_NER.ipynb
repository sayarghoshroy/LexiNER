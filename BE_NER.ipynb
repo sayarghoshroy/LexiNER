{
  "nbformat": 4,
  "nbformat_minor": 0,
  "metadata": {
    "colab": {
      "name": "BE_NER.ipynb",
      "provenance": [],
      "collapsed_sections": [],
      "authorship_tag": "ABX9TyNnR+WmUd0D1BNzKyQ+Yuur",
      "include_colab_link": true
    },
    "kernelspec": {
      "name": "python3",
      "display_name": "Python 3"
    }
  },
  "cells": [
    {
      "cell_type": "markdown",
      "metadata": {
        "id": "view-in-github",
        "colab_type": "text"
      },
      "source": [
        "<a href=\"https://colab.research.google.com/github/sayarghoshroy/LexiNER/blob/main/BE_NER.ipynb\" target=\"_parent\"><img src=\"https://colab.research.google.com/assets/colab-badge.svg\" alt=\"Open In Colab\"/></a>"
      ]
    },
    {
      "cell_type": "code",
      "metadata": {
        "id": "kFNcu2mWsxV0"
      },
      "source": [
        "# Getting content from a set of URLs"
      ],
      "execution_count": 1,
      "outputs": []
    },
    {
      "cell_type": "code",
      "metadata": {
        "id": "wDisMCIZs9YF",
        "outputId": "6ea695d3-302d-4c85-a6e5-673ce8bea9fb",
        "colab": {
          "base_uri": "https://localhost:8080/",
          "height": 108
        }
      },
      "source": [
        "# Uncomment if boilerpipe3 does not exist\n",
        "!pip install boilerpipe3\n",
        "from boilerpipe.extract import Extractor\n",
        "from tqdm import tqdm"
      ],
      "execution_count": 2,
      "outputs": [
        {
          "output_type": "stream",
          "text": [
            "Requirement already satisfied: boilerpipe3 in /usr/local/lib/python3.6/dist-packages (1.3)\n",
            "Requirement already satisfied: JPype1 in /usr/local/lib/python3.6/dist-packages (from boilerpipe3) (1.0.2)\n",
            "Requirement already satisfied: charade in /usr/local/lib/python3.6/dist-packages (from boilerpipe3) (1.0.3)\n",
            "Requirement already satisfied: typing-extensions; python_version < \"3.8\" in /usr/local/lib/python3.6/dist-packages (from JPype1->boilerpipe3) (3.7.4.3)\n"
          ],
          "name": "stdout"
        }
      ]
    },
    {
      "cell_type": "code",
      "metadata": {
        "id": "LT3KKOXCz8Xr"
      },
      "source": [
        "import nltk\n",
        "# To Download punkt module:\n",
        "# nltk.download('punkt')\n",
        "import pickle\n",
        "import sys\n",
        "import json\n",
        "import re"
      ],
      "execution_count": 3,
      "outputs": []
    },
    {
      "cell_type": "code",
      "metadata": {
        "id": "3wySrEzltF2m",
        "outputId": "25fd8811-71b4-48e4-bd17-11a5b06542d6",
        "colab": {
          "base_uri": "https://localhost:8080/",
          "height": 52
        }
      },
      "source": [
        "url_list = ['https://eisamay.indiatimes.com/nation/let-commander-3-other-terrorists-killed-in-kashmir/articleshow/78599215.cms',\n",
        "            'https://eisamay.indiatimes.com/nation/india-records-74383-covid-19-cases-tally-crosses-70-lakh-mark/articleshow/78599510.cms',\n",
        "            'https://eisamay.indiatimes.com/nation/delhi-student-18-beaten-to-death-allegedly-over-relationship-with-girl/articleshow/78589618.cms?utm_source=recommended&utm_medium=referral&utm_campaign=article11',\n",
        "            'https://eisamay.indiatimes.com/entertainment/cinema/sharpshooter-involved-in-2000-attack-on-rakesh-roshan-arrested/articleshow/78593074.cms?utm_source=recommended&utm_medium=referral&utm_campaign=article4',\n",
        "            'https://eisamay.indiatimes.com/crime/two-men-allegedly-stabbed-tea-shop-worker-after-he-refused-to-give-them-a-cigarette-in-delhi/articleshow/78592505.cms?utm_source=recommended&utm_medium=referral&utm_campaign=article8',\n",
        "            'https://eisamay.indiatimes.com/entertainment/cinema/corona-positive-bengali-legend-actor-soumitra-chatterjee-is-well-now/articleshow/78587347.cms?utm_source=recommended&utm_medium=referral&utm_campaign=article7',\n",
        "            'https://eisamay.indiatimes.com/nation/kedarnath-helicopter-service-starts-890-use-chopper-on-first-day/articleshow/78590624.cms?utm_source=recommended&utm_medium=referral&utm_campaign=article4',\n",
        "            'https://eisamay.indiatimes.com/world/5-killed-in-collision-between-plane-microlight-aircraft-in-france/articleshow/78596847.cms?utm_source=recommended&utm_medium=referral&utm_campaign=article11',\n",
        "            'https://eisamay.indiatimes.com/nation/india-continued-to-report-a-decline-in-the-active-cases-of-the-coronavirus-govt/articleshow/78592214.cms?utm_source=recommended&utm_medium=referral&utm_campaign=article9',\n",
        "            'https://eisamay.indiatimes.com/nation/ambulance-driver-who-ferried-200-bodies-of-covid-patients-since-march-dies-of-virus-in-delhi/articleshow/78601226.cms?utm_source=recommended&utm_medium=referral&utm_campaign=article4',\n",
        "            'https://eisamay.indiatimes.com/west-bengal-news/kolkata-news/wbtc-will-starts-tram-facility-for-pandle-hopping-in-durga-puja-2020/articleshow/78604463.cms?utm_source=recommended&utm_medium=referral&utm_campaign=article4',\n",
        "            'https://eisamay.indiatimes.com/entertainment/cinema/happy-birthday-amitabh-bachchan-ajay-devgn-to-ayushmann-khurrana-celebs-wish-the-legend/articleshow/78602599.cms?utm_source=recommended&utm_medium=referral&utm_campaign=article1',\n",
        "            'https://eisamay.indiatimes.com/nation/uttarakhand-queen-of-the-night-brahmakamal-blooming-in-off-season-stumps-many/articleshow/78603528.cms?utm_source=recommended&utm_medium=referral&utm_campaign=article7',\n",
        "            'https://eisamay.indiatimes.com/west-bengal-news/kolkata-news/people-engaged-in-puja-shopping-during-corona-pandemic/articleshow/78605765.cms?utm_source=recommended&utm_medium=referral&utm_campaign=article11',\n",
        "            'https://eisamay.indiatimes.com/nation/pm-narendra-modi-says-property-cards-scheme-historical-move-to-transform-rural-india/articleshow/78604053.cms?utm_source=recommended&utm_medium=referral&utm_campaign=article12']\n",
        "\n",
        "with open('news_urls.json', 'w+') as f:\n",
        "  json.dump(url_list, f)\n",
        "\n",
        "with open('news_urls.json', 'r+') as f:\n",
        "  url_list = json.load(f)\n",
        "\n",
        "url_list_wiki = ['https://bn.wikipedia.org/wiki/%E0%A6%AD%E0%A6%BE%E0%A6%B0%E0%A6%A4',\n",
        "                 'https://bn.wikipedia.org/wiki/%E0%A6%AD%E0%A6%BE%E0%A6%B0%E0%A6%A4%E0%A7%87%E0%A6%B0_%E0%A6%AA%E0%A7%8D%E0%A6%B0%E0%A6%BE%E0%A6%A3%E0%A7%80',\n",
        "                 'https://bn.wikipedia.org/wiki/%E0%A6%95%E0%A6%B2%E0%A6%95%E0%A6%BE%E0%A6%A4%E0%A6%BE',\n",
        "                 'https://bn.wikipedia.org/wiki/%E0%A6%A8%E0%A7%80%E0%A6%B2%E0%A6%97%E0%A6%BF%E0%A6%B0%E0%A6%BF_%E0%A6%B2%E0%A7%87%E0%A6%99%E0%A7%8D%E0%A6%97%E0%A7%81%E0%A6%B0',\n",
        "                 'https://bn.wikipedia.org/wiki/%E0%A6%A4%E0%A7%87%E0%A6%B2%E0%A7%87%E0%A6%99%E0%A7%8D%E0%A6%97%E0%A6%BE%E0%A6%A8%E0%A6%BE',\n",
        "                 'https://bn.wikipedia.org/wiki/%E0%A6%86%E0%A6%B8%E0%A6%BE%E0%A6%AE',\n",
        "                 'https://bn.wikipedia.org/wiki/%E0%A6%B9%E0%A6%B0%E0%A6%BF%E0%A6%AF%E0%A6%BC%E0%A6%BE%E0%A6%A8%E0%A6%BE',\n",
        "                 'https://bn.wikipedia.org/wiki/%E0%A6%B9%E0%A6%BF%E0%A6%AE%E0%A6%BE%E0%A6%9A%E0%A6%B2_%E0%A6%AA%E0%A7%8D%E0%A6%B0%E0%A6%A6%E0%A7%87%E0%A6%B6',\n",
        "                 'https://bn.wikipedia.org/wiki/%E0%A6%95%E0%A6%B0%E0%A7%8D%E0%A6%A3%E0%A6%BE%E0%A6%9F%E0%A6%95',\n",
        "                 'https://bn.wikipedia.org/wiki/%E0%A6%AE%E0%A6%BE%E0%A6%B2%E0%A6%AF%E0%A6%BC%E0%A6%BE%E0%A6%B2%E0%A6%AE_%E0%A6%AD%E0%A6%BE%E0%A6%B7%E0%A6%BE',\n",
        "                 'https://bn.wikipedia.org/wiki/%E0%A6%AA%E0%A6%B0%E0%A7%8D%E0%A6%A4%E0%A7%81%E0%A6%97%E0%A6%BE%E0%A6%B2',\n",
        "                 'https://bn.wikipedia.org/wiki/%E0%A6%A8%E0%A7%87%E0%A6%A6%E0%A6%BE%E0%A6%B0%E0%A6%B2%E0%A7%8D%E0%A6%AF%E0%A6%BE%E0%A6%A8%E0%A7%8D%E0%A6%A1%E0%A6%B8',\n",
        "                 'https://bn.wikipedia.org/wiki/%E0%A6%AB%E0%A7%8D%E0%A6%B0%E0%A6%BE%E0%A6%A8%E0%A7%8D%E0%A6%B8',\n",
        "                 'https://bn.wikipedia.org/wiki/%E0%A6%AF%E0%A7%81%E0%A6%95%E0%A7%8D%E0%A6%A4%E0%A6%B0%E0%A6%BE%E0%A6%9C%E0%A7%8D%E0%A6%AF',\n",
        "                 'https://bn.wikipedia.org/wiki/%E0%A6%9C%E0%A6%AE%E0%A7%8D%E0%A6%AE%E0%A7%81_%E0%A6%93_%E0%A6%95%E0%A6%BE%E0%A6%B6%E0%A7%8D%E0%A6%AE%E0%A7%80%E0%A6%B0',\n",
        "                 'https://bn.wikipedia.org/wiki/%E0%A6%B8%E0%A7%81%E0%A6%87%E0%A6%9C%E0%A6%BE%E0%A6%B0%E0%A6%B2%E0%A7%8D%E0%A6%AF%E0%A6%BE%E0%A6%A8%E0%A7%8D%E0%A6%A1',\n",
        "                 'https://bn.wikipedia.org/wiki/%E0%A6%87%E0%A6%A4%E0%A6%BE%E0%A6%B2%E0%A6%BF',\n",
        "                 'https://bn.wikipedia.org/wiki/%E0%A6%85%E0%A6%B8%E0%A7%8D%E0%A6%9F%E0%A7%8D%E0%A6%B0%E0%A6%BF%E0%A6%AF%E0%A6%BC%E0%A6%BE',\n",
        "                 'https://bn.wikipedia.org/wiki/%E0%A6%9C%E0%A6%BE%E0%A6%B0%E0%A7%8D%E0%A6%AE%E0%A6%BE%E0%A6%A8%E0%A6%BF',\n",
        "                 'https://bn.wikipedia.org/wiki/%E0%A6%AE%E0%A6%BE%E0%A6%A6%E0%A7%8D%E0%A6%B0%E0%A6%BF%E0%A6%A6']\n",
        "\n",
        "with open('wiki_urls.json', 'w+') as f:\n",
        "  json.dump(url_list_wiki, f)\n",
        "\n",
        "with open('wiki_urls.json', 'r+') as f:\n",
        "  url_list_wiki = json.load(f)\n",
        "\n",
        "print(\"Number of News URLs: \" + str(len(url_list)))\n",
        "print(\"Number of Wikipedia URLs: \" + str(len(url_list_wiki)))"
      ],
      "execution_count": 4,
      "outputs": [
        {
          "output_type": "stream",
          "text": [
            "Number of News URLs: 15\n",
            "Number of Wikipedia URLs: 20\n"
          ],
          "name": "stdout"
        }
      ]
    },
    {
      "cell_type": "code",
      "metadata": {
        "id": "6YFWV24Ctl5y",
        "outputId": "819c275c-c74b-4011-8c8d-4635f96bca4c",
        "colab": {
          "base_uri": "https://localhost:8080/",
          "height": 106
        }
      },
      "source": [
        "content_collection = []\n",
        "# content_collection format\n",
        "# {'url': <article_URL>, 'content': <boilerpipe_content>}\n",
        "\n",
        "failed_extraction_count = 0\n",
        "failed_URLs = []\n",
        "\n",
        "for idx in tqdm(range(len(url_list))):\n",
        "  url = url_list[idx]\n",
        "  try:\n",
        "    extractor = Extractor(extractor = 'ArticleExtractor', url = url)\n",
        "    content = str(extractor.getText())\n",
        "    # extractor.getText() returns a java lang string\n",
        "    content_collection.append({'url': url, 'content': content})\n",
        "  except Exception as e:\n",
        "    failed_extraction_count += 1\n",
        "    failed_URLs.append(url)\n",
        "    print(\"Error Extracting Page at \" + url)\n",
        "\n",
        "print(\"\")\n",
        "print(\"Number of URL Contents Extracted Successfully = \" + str(len(url_list) - failed_extraction_count))\n",
        "print(\"Set of Failed URLs: \")\n",
        "print(failed_URLs)\n",
        "\n",
        "with open('working_content.json', 'w+') as f:\n",
        "  json.dump(content_collection, f)"
      ],
      "execution_count": 5,
      "outputs": [
        {
          "output_type": "stream",
          "text": [
            "100%|██████████| 15/15 [00:18<00:00,  1.21s/it]"
          ],
          "name": "stderr"
        },
        {
          "output_type": "stream",
          "text": [
            "\n",
            "Number of URL Contents Extracted Successfully = 15\n",
            "Set of Failed URLs: \n",
            "[]\n"
          ],
          "name": "stdout"
        },
        {
          "output_type": "stream",
          "text": [
            "\n"
          ],
          "name": "stderr"
        }
      ]
    },
    {
      "cell_type": "markdown",
      "metadata": {
        "id": "KnkyAp2LyqbD"
      },
      "source": [
        "#### Framing Named Entity Recognition Rules:\n",
        "\n",
        "- Refer to this [resource for Bengali NER](http://cdn.iiit.ac.in/cdn/ltrc.iiit.ac.in/ner-ssea-08/drafts/1.pdf)\n"
      ]
    },
    {
      "cell_type": "code",
      "metadata": {
        "id": "TZXsjyFh0yXe"
      },
      "source": [
        "def clean(txt):\n",
        "  # Cleans Text for Custom Tokenization\n",
        "  # Removes English Characters and Numbers\n",
        "\n",
        "  txt = txt.replace(\"\\n\", \" \").replace(\"\\r\", \" \").replace(\"|\", \" | \").replace(\"।\", \" । \")\n",
        "  # In Bengali, । marks the end of a sentence\n",
        "  punc_list = '!\"#$&*+,.-/;?@\\^_~)(][}{%'\n",
        "  # Removing a set of special characters\n",
        "  t = str.maketrans(dict.fromkeys(punc_list, \" \"))\n",
        "  txt = txt.translate(t)\n",
        "  # Removing single quotes and backticks\n",
        "  t = str.maketrans(dict.fromkeys(\"'`\", \"\"))\n",
        "  txt = txt.translate(t)\n",
        "  return txt\n",
        "\n",
        "def regtok(txt):\n",
        "  txt = clean(txt)\n",
        "  regex = re.compile(r'(\\d+|\\s+|=|}}|\\|)')\n",
        "  tokens = [token.strip() for token in regex.split(txt) if token.strip() != '' and token.strip().isalnum() != True]\n",
        "  return tokens"
      ],
      "execution_count": 6,
      "outputs": []
    },
    {
      "cell_type": "code",
      "metadata": {
        "id": "Mo5yfjjeubbl",
        "outputId": "9c13c0e5-208b-49c2-b6e7-49e89f9cf3c0",
        "colab": {
          "base_uri": "https://localhost:8080/",
          "height": 303
        }
      },
      "source": [
        "loc_token_end = ['সরনী', 'রোড', 'স্ট্রিট', 'লেন', 'থানা', 'বাগ', 'হাসপাতাল', 'ক্লিনিক', 'স্কুল', 'বিদ্যালয়', 'কলেজ', 'বিশ্ববিদ্যালয়', 'নদী', 'লেক', 'হ্রদ', 'সাগর', 'মহাসাগর', 'পাহাড়', 'পর্বত']\n",
        "loc_connect_end = ['নগর', 'গঞ্জ', 'গ্রাম', 'পুর', 'গড়']\n",
        "person_begin = ['শ্রী', 'শ্রীযুক্ত', 'ডঃ', 'মিঃ', 'মিস', 'মিসেস', 'বেগম', 'বিবি', 'মোঃ', 'ডাক্তার', 'ডক্টর', 'মিস্টার', 'শ্রীমতি', 'মাস্টার', 'স্বামী', 'সৈয়দ', 'রেভারেন্ড', 'প্রফ', 'অধ্যাপক', 'প্রধানমন্ত্রীর'] \n",
        "person_end = ['বাবু', 'দাদা', 'দা', 'সাহেব', 'কাকু']\n",
        "surnames = ['ঘোষ', 'বোস', 'বসু', 'মিত্র', 'রায়', 'সরকার', 'কুমার', 'চন্দ্র', 'খান', 'আহমেদ', 'রহমান', 'হক']\n",
        "person_end += surnames\n",
        "person_ref_end = ['রা', 'এরা', 'দের', 'কে']\n",
        "person_marker = [' ँ']\n",
        "ltd_prev_end = ['পাবলিক', 'প্রাইভেট']\n",
        "limited = 'লিমিটেড'\n",
        "and_name = 'এণ্ড'\n",
        "and_end = ['সনস', 'সন', 'ডটার', 'ডটারস', 'ডটার্স ', 'কম্পানি', 'কোম্পানি']\n",
        "org_end = ['ইনস্টিটিউট', 'এন্টারপ্রাইস', 'কোম্পানি', 'কোম্পানি', 'কর্পোরেশন', 'সমিতি', 'সমাজ', 'কোয়াপারেটিভ', 'ল্যাব', 'ল্যাবরেটরি', 'রসায়নাগার', 'গবেষণাগার', 'কমিটি', 'পরিষদ']\n",
        "\n",
        "def get_named_entities(text):\n",
        "  text = clean(text)\n",
        "  tokens = regtok(text)\n",
        "  size = len(tokens)\n",
        "  \n",
        "  tags = ['none' for idx in range(size)]\n",
        "  # default tag is 'none'\n",
        "\n",
        "  left = 0\n",
        "  # marks the beginning of a possible arconym\n",
        "\n",
        "  for idx in range(size):\n",
        "    token = tokens[idx]\n",
        "    if token in loc_connect_end:\n",
        "      if idx > 0 and tokens[idx - 1] != '|' and tokens[idx - 1] != '।':\n",
        "        tags[idx - 1] = 'loc'\n",
        "        tags[idx] = 'loc'\n",
        "\n",
        "    if idx > 1 and token == limited and tokens[idx - 1] in ltd_prev_end:\n",
        "      tags[idx - 2] = 'org'\n",
        "      tags[idx - 1] = 'org'\n",
        "      tags[idx] = 'org'\n",
        "\n",
        "    if idx > 0 and idx < (size - 1) and token == and_name and tokens[idx + 1] in and_end:\n",
        "      tags[idx - 1] = 'org'\n",
        "      tags[idx] = 'org'\n",
        "      tags[idx + 1] = 'org'\n",
        "\n",
        "    if token in org_end:\n",
        "      if idx > 0 and tokens[idx - 1] != '|' and tokens[idx - 1] != '।':\n",
        "        tags[idx - 1] = 'org'\n",
        "        tags[idx] = 'org'\n",
        "\n",
        "    for init in loc_token_end:\n",
        "      if token.endswith(init):\n",
        "        tags[idx] = 'loc'\n",
        "\n",
        "    for init in person_begin:\n",
        "      if token.startswith(init):\n",
        "        tags[idx] = 'per'\n",
        "        if idx + 1 > size and tokens[idx + 1] != '|' and tokens[idx + 1] != '।':\n",
        "          tags[idx + 1] = 'per'\n",
        "\n",
        "    for init in person_end:\n",
        "      if token.endswith(init):\n",
        "        tags[idx] = 'per'\n",
        "\n",
        "    for init in person_ref_end:\n",
        "      if token.endswith(init) and token != 'থেকে':\n",
        "        tags[idx] = 'per'\n",
        "\n",
        "    for init in person_marker:\n",
        "      if init in token:\n",
        "        tags[idx] = 'per'\n",
        "\n",
        "    if len(token) <= 2 and token != '|' and token != '।':\n",
        "      pass\n",
        "    \n",
        "    elif len(token) > 2 or token == '|' or token == '।':\n",
        "      if idx - left <= 2:\n",
        "        left = idx + 1\n",
        "      else:\n",
        "        while left != idx:\n",
        "          tags[left] = 'org'\n",
        "          left += 1\n",
        "        left = idx + 1\n",
        "  \n",
        "  for idx in range(size):\n",
        "    if tags[idx] != 'none':\n",
        "      print((idx, tokens[idx], tags[idx]), end = '')\n",
        "  return tags\n",
        "\n",
        "for page in content_collection:\n",
        "  # To view real time identifications\n",
        "  print(page['url'] + \": \", end = \"\")\n",
        "  get_named_entities(str(page['content']))\n",
        "  print(\"\")"
      ],
      "execution_count": 7,
      "outputs": [
        {
          "output_type": "stream",
          "text": [
            "https://eisamay.indiatimes.com/nation/let-commander-3-other-terrorists-killed-in-kashmir/articleshow/78599215.cms: (17, 'সন্ত্রাসবাদীদের', 'per')(21, 'তাঁরা', 'per')(25, 'বাহিনীকে', 'per')(39, 'জঙ্গিরা', 'per')(41, 'একে', 'per')(58, 'সন্ত্রাসবাদীকে', 'per')(60, 'করা', 'per')(62, 'তারা', 'per')(91, 'তাদের', 'per')(112, 'সন্ত্রাসবাদীকে', 'per')(114, 'করা', 'per')(116, 'তারা', 'per')(121, 'অন্যদিকে', 'per')(125, 'সন্ত্রাসবাদীদের', 'per')(127, 'একজনকে', 'per')(129, 'করা', 'per')(192, 'বাহিনীকে', 'per')(197, 'থাকে', 'per')(198, 'সন্ত্রাসবাদীরা', 'per')(225, 'করা', 'per')(228, 'তাঁদের', 'per')(232, 'বাসিন্দা', 'per')(253, 'তারা', 'per')(255, 'তাদের', 'per')(273, 'সন্ত্রাসবাদীদের', 'per')(283, 'সন্ত্রাসবাদীদের', 'per')(287, 'তাঁরা', 'per')(290, 'বাহিনীকে', 'per')(304, 'জঙ্গিরা', 'per')(306, 'একে', 'per')(318, 'নাগরিকদের', 'per')(331, 'করা', 'per')(339, 'জৈয়ানপোরা', 'per')(368, 'সন্ত্রাসবাদীদের', 'per')(379, 'বাহিনীকে', 'per')(386, 'সন্ত্রাসবাদীরা', 'per')(402, 'অবন্তিপোরা', 'per')(404, 'সাম্বোরা', 'per')\n",
            "https://eisamay.indiatimes.com/nation/india-records-74383-covid-19-cases-tally-crosses-70-lakh-mark/articleshow/78599510.cms: (32, 'প্রায়', 'per')(42, 'আমেরিকাকে', 'per')(93, 'ধরা', 'per')(119, 'মারা', 'per')(169, 'আমেরিকাকে', 'per')(175, 'মার্কিনমুলকে', 'per')(196, 'ব্রাজিলকে', 'per')(243, 'সৌমিত্র', 'per')(294, 'ধরা', 'per')\n",
            "https://eisamay.indiatimes.com/nation/delhi-student-18-beaten-to-death-allegedly-over-relationship-with-girl/articleshow/78589618.cms?utm_source=recommended&utm_medium=referral&utm_campaign=article11: (4, 'কলেজছাত্রকে', 'per')(18, 'বাসিন্দা', 'per')(36, 'যুবকরা', 'per')(43, 'সাংবাদিকদের', 'per')(50, 'আমরা', 'per')(60, 'বাসিন্দা', 'per')(83, 'দাদা', 'per')(91, 'ছাত্রকে', 'per')(98, 'অভিযুক্তকে', 'per')(107, 'অভিযুক্তদের', 'per')(118, 'বাসিন্দা', 'per')(136, 'যুবকরা', 'per')(143, 'সাংবাদিকদের', 'per')(150, 'আমরা', 'per')(160, 'বাসিন্দা', 'per')(176, 'দাদা', 'per')(178, 'সদস্যরা', 'per')(179, 'কলেজ', 'loc')(192, 'মারা', 'per')(222, 'লোকেরা', 'per')(223, 'তাঁকে', 'per')(227, 'তাঁকে', 'per')(230, 'বর্বররা', 'per')(232, 'ছেলেকে', 'per')(233, 'তাঁদের', 'per')(247, 'দাদা', 'per')(251, 'কিশোরীকে', 'per')(268, 'তাঁকে', 'per')(288, 'ডাকে', 'per')(295, 'তাঁকে', 'per')(302, 'থাকে', 'per')(312, 'করা', 'per')(315, 'তাঁকে', 'per')(320, 'চিকিত্\\u200dসকরা', 'per')(335, 'ছেলেটিকে', 'per')(339, 'করা', 'per')(373, 'পুলিশকে', 'per')\n",
            "https://eisamay.indiatimes.com/entertainment/cinema/sharpshooter-involved-in-2000-attack-on-rakesh-roshan-arrested/articleshow/78593074.cms?utm_source=recommended&utm_medium=referral&utm_campaign=article4: (1, 'রোশনকে', 'per')(3, 'করা', 'per')(24, 'রোশনকে', 'per')(41, 'করা', 'per')(45, 'গাইকোয়াডকে', 'per')(52, 'রাকেশকে', 'per')(62, 'করা', 'per')(65, 'শ্যুটারকে', 'per')(113, 'রোশনকে', 'per')(122, 'রাকেশকে', 'per')(132, 'করা', 'per')(135, 'শ্যুটারকে', 'per')(140, 'ধরা', 'per')(159, 'তাঁকে', 'per')(176, 'করা', 'per')(180, 'গাইকোয়াডকে', 'per')(197, 'তাকে', 'per')(224, 'ডেরায়', 'per')(252, 'তাকে', 'per')(268, 'রাকেশকে', 'per')(287, 'রাকেশকে', 'per')(321, 'কুখ্যাতদের', 'per')(338, 'দিকে', 'per')\n",
            "https://eisamay.indiatimes.com/crime/two-men-allegedly-stabbed-tea-shop-worker-after-he-refused-to-give-them-a-cigarette-in-delhi/articleshow/78592505.cms?utm_source=recommended&utm_medium=referral&utm_campaign=article8: (5, 'কর্মীকে', 'per')(26, 'খান', 'per')(30, 'হান্নানকে', 'per')(50, 'তাঁকে', 'per')(72, 'কর্মীকে', 'per')(82, 'করায়', 'per')(90, 'কর্মীকে', 'per')(112, 'তাঁকে', 'per')(127, 'খান', 'per')(131, 'হান্নানকে', 'per')(147, 'কর্মীকে', 'per')(167, 'পুলিশকর্মীরা', 'per')(168, 'ইজাজকে', 'per')(176, 'তাঁকে', 'per')(178, 'করায়', 'per')(183, 'পুলিশকে', 'per')(187, 'জামাইবাবু', 'per')(224, 'তারা', 'per')(225, 'ইজাজকে', 'per')(242, 'জানালেন', 'loc')(244, 'একজনকে', 'per')(246, 'করা', 'per')(249, 'তাকে', 'per')(250, 'জেরা', 'per')(259, 'বাগ', 'loc')(265, 'জেরায়', 'per')(266, 'অভিযুক্তরা', 'per')(279, 'যুবতীকে', 'per')\n",
            "https://eisamay.indiatimes.com/entertainment/cinema/corona-positive-bengali-legend-actor-soumitra-chatterjee-is-well-now/articleshow/78587347.cms?utm_source=recommended&utm_medium=referral&utm_campaign=article7: (4, 'সৌমিত্র', 'per')(30, 'হাসপাতাল', 'loc')(38, 'তাঁকে', 'per')(39, 'আইটিইউকে', 'per')(47, 'হাসপাতাল', 'loc')(69, 'সৌমিত্র', 'per')(84, 'সৌমিত্র', 'per')(113, 'অন্যদিকে', 'per')(114, 'হাসপাতাল', 'loc')(150, 'হাসপাতাল', 'loc')(158, 'তাঁকে', 'per')(159, 'আইটিইউকে', 'per')(193, 'তাঁকে', 'per')(206, 'সৌমিত্র', 'per')(249, 'তাঁকে', 'per')(256, 'সৌমিত্র', 'per')(266, 'সৌমিত্র', 'per')(292, 'জনকে', 'per')(293, 'সৌমিত্র', 'per')(308, 'সৌমিত্র', 'per')(312, 'ধরা', 'per')(317, 'চিকিৎসকদের', 'per')(322, 'যাঁরা', 'per')(326, 'এসেছিলেন', 'loc')(327, 'তাঁদের', 'per')(341, 'ছিলেন', 'loc')(354, 'তাঁদের', 'per')(356, 'ছিলেন', 'loc')(358, 'রায়', 'per')(363, 'ঘোষ', 'per')(370, 'রায়', 'per')(382, 'সৌমিত্র', 'per')(384, 'ছিলেন', 'loc')\n",
            "https://eisamay.indiatimes.com/nation/kedarnath-helicopter-service-starts-890-use-chopper-on-first-day/articleshow/78590624.cms?utm_source=recommended&utm_medium=referral&utm_campaign=article4: (9, 'যাত্রায়', 'per')(17, 'পর্যটকদের', 'per')(21, 'সরকার', 'per')(44, 'পর্যটকদের', 'per')(53, 'প্রায়', 'per')(79, 'পর্যটকদের', 'per')(81, 'নিজেদের', 'per')(86, 'অনেকে', 'per')(94, 'ভ্রমণপিপাসুরা', 'per')(96, 'আতঙ্ককে', 'per')(106, 'বাসিন্দা', 'per')(112, 'তীর্থযাত্রীদের', 'per')(117, 'যাত্রা', 'per')(121, 'পর্যটকদের', 'per')(125, 'সরকার', 'per')(148, 'পর্যটকদের', 'per')(165, 'প্রায়', 'per')(204, 'কুমার', 'per')(216, 'করা', 'per')(228, 'যাঁরা', 'per')(235, 'তাঁরা', 'per')(340, 'অন্যদিকে', 'per')(394, 'পর্যটকদের', 'per')(410, 'তাঁরা', 'per')(421, 'তীর্থযাত্রীরা', 'per')(430, 'তীর্থযাত্রীদের', 'per')(433, 'করা', 'per')(439, 'তাপমাত্রা', 'per')(462, 'পূণ্যার্থীরা', 'per')(471, 'তাঁদের', 'per')(486, 'ভক্তরা', 'per')(488, 'গিয়েছিলেন', 'loc')\n",
            "https://eisamay.indiatimes.com/world/5-killed-in-collision-between-plane-microlight-aircraft-in-france/articleshow/78596847.cms?utm_source=recommended&utm_medium=referral&utm_campaign=article11: (17, 'মারা', 'per')(65, 'ছিলেন', 'loc')(70, 'মারা', 'per')(80, 'ছিলেন', 'loc')(105, 'ছিলেন', 'loc')(115, 'ছিলেন', 'loc')(142, 'তারা', 'per')(167, 'মারা', 'per')(180, 'বা', 'org')(181, 'কী', 'org')(182, 'সে', 'org')(224, 'ছিলেন', 'loc')(305, 'ছাত্রীকে', 'per')(331, 'যাঁদের', 'per')(334, 'ছিলেন', 'loc')(343, 'জানিয়েছিলেন', 'loc')(371, 'আমরা', 'per')\n",
            "https://eisamay.indiatimes.com/nation/india-continued-to-report-a-decline-in-the-active-cases-of-the-coronavirus-govt/articleshow/78592214.cms?utm_source=recommended&utm_medium=referral&utm_campaign=article9: (38, 'হলেন', 'loc')(102, 'করা', 'per')(110, 'প্রায়', 'per')(146, 'থাকে', 'per')(150, 'হলেন', 'loc')(204, 'হলেন', 'loc')(252, 'থাকে', 'per')(278, 'ধারা', 'per')(291, 'হয়েছিলেন', 'loc')\n",
            "https://eisamay.indiatimes.com/nation/ambulance-driver-who-ferried-200-bodies-of-covid-patients-since-march-dies-of-virus-in-delhi/articleshow/78601226.cms?utm_source=recommended&utm_medium=referral&utm_campaign=article4: (38, 'স্বাস্থ্যকর্মীরা', 'per')(42, 'করোনাকে', 'per')(59, 'সারা', 'per')(77, 'আক্রান্তদের', 'per')(79, 'হাসপাতাল', 'loc')(120, 'হয়েছিলেন', 'loc')(127, 'আরিফখান', 'per')(131, 'মারা', 'per')(132, 'গেলেন', 'loc')(144, 'বাসিন্দা', 'per')(157, 'হাসপাতাল', 'loc')(159, 'করোনাকে', 'per')(163, 'অসুস্থদের', 'per')(166, 'করা', 'per')(179, 'পরিবারকে', 'per')(209, 'মারা', 'per')(227, 'পরিবারকে', 'per')(236, 'তাঁকে', 'per')(257, 'দিয়েছিলেন', 'loc')(272, 'তাঁকে', 'per')(279, 'হাসপাতাল', 'loc')(328, 'করোনাকে', 'per')(354, 'যাঁরা', 'per')(358, 'মারা', 'per')(360, 'তাঁদের', 'per')(363, 'হাসপাতাল', 'loc')(378, 'হাসপাতাল', 'loc')(387, 'খান', 'per')(397, 'সহকর্মীরা', 'per')(407, 'তাঁকে', 'per')\n",
            "https://eisamay.indiatimes.com/west-bengal-news/kolkata-news/wbtc-will-starts-tram-facility-for-pandle-hopping-in-durga-puja-2020/articleshow/78604463.cms?utm_source=recommended&utm_medium=referral&utm_campaign=article4: (55, 'করা', 'per')(156, 'করা', 'per')(234, 'দিকে', 'per')(239, 'যাত্রা', 'per')(246, 'কলেজ', 'loc')(329, 'কাউকে', 'per')(351, 'করা', 'per')(362, 'করা', 'per')(369, 'শিখরা', 'per')(385, 'যাত্রীদের', 'per')\n",
            "https://eisamay.indiatimes.com/entertainment/cinema/happy-birthday-amitabh-bachchan-ajay-devgn-to-ayushmann-khurrana-celebs-wish-the-legend/articleshow/78602599.cms?utm_source=recommended&utm_medium=referral&utm_campaign=article1: (2, 'ভক্তদের', 'per')(21, 'প্রায়', 'per')(35, 'তাঁকে', 'per')(39, 'অভিনেত্রীরা', 'per')(49, 'বয়সকে', 'per')(119, 'নিজেকে', 'per')(148, 'করলেন', 'loc')(152, 'ভক্তদের', 'per')(177, 'আপনাদের', 'per')(179, 'আপনাদের', 'per')\n",
            "https://eisamay.indiatimes.com/nation/uttarakhand-queen-of-the-night-brahmakamal-blooming-in-off-season-stumps-many/articleshow/78603528.cms?utm_source=recommended&utm_medium=referral&utm_campaign=article7: (44, 'একে', 'per')(45, 'অনেকে', 'per')(97, 'একে', 'per')(98, 'অনেকে', 'per')(104, 'থাকে', 'per')(150, 'একে', 'per')(151, 'অনেকে', 'per')(157, 'থাকে', 'per')(177, 'সাদা', 'per')(219, 'বিপন্নপ্রায়', 'per')(226, 'সরকার', 'per')(233, 'গবেষকরা', 'per')(247, 'থাকে', 'per')(250, 'দিকে', 'per')(252, 'আলাদা', 'per')(294, 'সাদা', 'per')(318, 'বিজ্ঞানীদের', 'per')(337, 'তোলেন', 'loc')(371, 'সাদা', 'per')(395, 'বিশেষজ্ঞদের', 'per')(419, 'চন্দ্র', 'per')(425, 'ছিলেন', 'loc')(451, 'থাকে', 'per')\n",
            "https://eisamay.indiatimes.com/west-bengal-news/kolkata-news/people-engaged-in-puja-shopping-during-corona-pandemic/articleshow/78605765.cms?utm_source=recommended&utm_medium=referral&utm_campaign=article11: (70, 'কে', 'per')(85, 'বিক্রেতাদের', 'per')(106, 'আমাদের', 'per')(126, 'কে', 'per')(161, 'বিক্রেতাদের', 'per')(210, 'মাস্কে', 'per')(231, 'ব্যক্তিদের', 'per')(260, 'ক্রেতাদের', 'per')(274, 'ফেরা', 'per')(317, 'সরকার', 'per')(335, 'করা', 'per')(346, 'চেহারা', 'per')(355, 'বিশেষজ্ঞরা', 'per')(380, 'করোনাকে', 'per')\n",
            "https://eisamay.indiatimes.com/nation/pm-narendra-modi-says-property-cards-scheme-historical-move-to-transform-rural-india/articleshow/78604053.cms?utm_source=recommended&utm_medium=referral&utm_campaign=article12: (49, 'কার্ডকে', 'per')(74, 'করলেন', 'loc')(96, 'কার্ডকে', 'per')(119, 'করলেন', 'loc')(141, 'কার্ডকে', 'per')(154, 'প্রায়', 'per')(161, 'প্রধানমন্ত্রীর', 'per')(163, 'তাঁদের', 'per')(187, 'তাঁরা', 'per')(195, 'যাঁরা', 'per')(233, 'ডাক্তারের', 'per')(241, 'বলেন', 'loc')(242, 'প্রধানমন্ত্রীর', 'per')(270, 'মানুষদের', 'per')(279, 'সম্পত্তিকে', 'per')(285, 'তাঁরা', 'per')(295, 'বলেন', 'loc')(304, 'তাঁদের', 'per')(309, 'থাকে', 'per')(312, 'তাঁকে', 'per')(323, 'শিখরা', 'per')\n"
          ],
          "name": "stdout"
        }
      ]
    },
    {
      "cell_type": "code",
      "metadata": {
        "id": "vTlH-emG8dBp"
      },
      "source": [
        "# ^_^ Thank You"
      ],
      "execution_count": 8,
      "outputs": []
    }
  ]
}